{
 "cells": [
  {
   "cell_type": "code",
   "execution_count": 2,
   "id": "a7d09e78",
   "metadata": {},
   "outputs": [],
   "source": [
    "from datetime import datetime\n",
    "import functools\n",
    "import os\n",
    "from typing import Any, Dict, Sequence, Tuple, Union\n",
    "from brax import base\n",
    "from brax import envs\n",
    "from brax import math\n",
    "from brax.base import Base, Motion, Transform\n",
    "from brax.base import State as PipelineState\n",
    "from brax.envs.base import Env, PipelineEnv, State\n",
    "from brax.io import html, mjcf, model\n",
    "from brax.mjx.base import State as MjxState\n",
    "from brax.training.agents.ppo import networks as ppo_networks\n",
    "from brax.training.agents.ppo import train as ppo\n",
    "from brax.training.agents.sac import networks as sac_networks\n",
    "from brax.training.agents.sac import train as sac\n",
    "from etils import epath\n",
    "from flax import struct\n",
    "from flax.training import orbax_utils\n",
    "from IPython.display import HTML, clear_output\n",
    "import jax\n",
    "from jax import numpy as jp\n",
    "from matplotlib import pyplot as plt\n",
    "import mediapy as media\n",
    "from ml_collections import config_dict\n",
    "import mujoco\n",
    "from mujoco import mjx\n",
    "import numpy as np\n",
    "from orbax import checkpoint as ocp"
   ]
  },
  {
   "cell_type": "code",
   "execution_count": 3,
   "id": "937ca523",
   "metadata": {},
   "outputs": [],
   "source": [
    "from mujoco_playground import wrapper\n",
    "from mujoco_playground import registry"
   ]
  },
  {
   "cell_type": "code",
   "execution_count": 4,
   "id": "466ae69a",
   "metadata": {},
   "outputs": [
    {
     "data": {
      "text/plain": [
       "('AlohaHandOver',\n",
       " 'AlohaSinglePegInsertion',\n",
       " 'PandaPickCube',\n",
       " 'PandaPickCubeOrientation',\n",
       " 'PandaPickCubeCartesian',\n",
       " 'PandaOpenCabinet',\n",
       " 'PandaRobotiqPushCube',\n",
       " 'LeapCubeReorient',\n",
       " 'LeapCubeRotateZAxis')"
      ]
     },
     "execution_count": 4,
     "metadata": {},
     "output_type": "execute_result"
    }
   ],
   "source": [
    "registry.manipulation.ALL_ENVS"
   ]
  },
  {
   "cell_type": "code",
   "execution_count": 5,
   "id": "b09f64a5",
   "metadata": {},
   "outputs": [],
   "source": [
    "env_name = 'PandaPickCubeOrientation'\n",
    "env = registry.load(env_name)\n",
    "env_cfg = registry.get_default_config(env_name)"
   ]
  },
  {
   "cell_type": "code",
   "execution_count": 6,
   "id": "73012ab8",
   "metadata": {},
   "outputs": [
    {
     "data": {
      "text/plain": [
       "action_repeat: 1\n",
       "action_scale: 0.04\n",
       "ctrl_dt: 0.02\n",
       "episode_length: 150\n",
       "reward_config:\n",
       "  scales:\n",
       "    box_target: 8.0\n",
       "    gripper_box: 4.0\n",
       "    no_floor_collision: 0.25\n",
       "    robot_target_qpos: 0.3\n",
       "sim_dt: 0.005"
      ]
     },
     "execution_count": 6,
     "metadata": {},
     "output_type": "execute_result"
    }
   ],
   "source": [
    "env_cfg"
   ]
  },
  {
   "cell_type": "code",
   "execution_count": 7,
   "id": "f4c67e2d",
   "metadata": {},
   "outputs": [
    {
     "data": {
      "text/plain": [
       "action_repeat: 1\n",
       "batch_size: 512\n",
       "discounting: 0.97\n",
       "entropy_cost: 0.02\n",
       "episode_length: 150\n",
       "learning_rate: 0.001\n",
       "network_factory:\n",
       "  policy_hidden_layer_sizes: !!python/tuple\n",
       "  - 32\n",
       "  - 32\n",
       "  - 32\n",
       "  - 32\n",
       "  policy_obs_key: state\n",
       "  value_hidden_layer_sizes: !!python/tuple\n",
       "  - 256\n",
       "  - 256\n",
       "  - 256\n",
       "  - 256\n",
       "  - 256\n",
       "  value_obs_key: state\n",
       "normalize_observations: true\n",
       "num_envs: 2048\n",
       "num_evals: 4\n",
       "num_minibatches: 32\n",
       "num_timesteps: 20000000\n",
       "num_updates_per_batch: 8\n",
       "reward_scaling: 1.0\n",
       "unroll_length: 10"
      ]
     },
     "execution_count": 7,
     "metadata": {},
     "output_type": "execute_result"
    }
   ],
   "source": [
    "from mujoco_playground.config import manipulation_params\n",
    "ppo_params = manipulation_params.brax_ppo_config(env_name)\n",
    "ppo_params"
   ]
  },
  {
   "cell_type": "code",
   "execution_count": 11,
   "id": "176d5cd3",
   "metadata": {},
   "outputs": [
    {
     "data": {
      "text/plain": [
       "66"
      ]
     },
     "execution_count": 11,
     "metadata": {},
     "output_type": "execute_result"
    }
   ],
   "source": [
    "env.observation_size"
   ]
  },
  {
   "cell_type": "code",
   "execution_count": 7,
   "id": "eb201fb2",
   "metadata": {},
   "outputs": [],
   "source": [
    "x_data, y_data, y_dataerr = [], [], []\n",
    "times = [datetime.now()]\n",
    "\n",
    "\n",
    "def progress(num_steps, metrics):\n",
    "  clear_output(wait=True)\n",
    "\n",
    "  times.append(datetime.now())\n",
    "  x_data.append(num_steps)\n",
    "  y_data.append(metrics[\"eval/episode_reward\"])\n",
    "  y_dataerr.append(metrics[\"eval/episode_reward_std\"])\n",
    "\n",
    "  plt.xlim([0, ppo_params[\"num_timesteps\"] * 1.25])\n",
    "  plt.xlabel(\"# environment steps\")\n",
    "  plt.ylabel(\"reward per episode\")\n",
    "  plt.title(f\"y={y_data[-1]:.3f}\")\n",
    "  plt.errorbar(x_data, y_data, yerr=y_dataerr, color=\"blue\")\n",
    "\n",
    "  display(plt.gcf())\n",
    "\n",
    "ppo_training_params = dict(ppo_params)\n",
    "network_factory = ppo_networks.make_ppo_networks\n",
    "if \"network_factory\" in ppo_params:\n",
    "  del ppo_training_params[\"network_factory\"]\n",
    "  network_factory = functools.partial(\n",
    "      ppo_networks.make_ppo_networks,\n",
    "      **ppo_params.network_factory\n",
    "  )\n",
    "\n",
    "train_fn = functools.partial(\n",
    "    ppo.train, **dict(ppo_training_params),\n",
    "    network_factory=network_factory,\n",
    "    progress_fn=progress,\n",
    "    seed=1\n",
    ")"
   ]
  },
  {
   "cell_type": "code",
   "execution_count": null,
   "id": "b84d37d7",
   "metadata": {},
   "outputs": [
    {
     "data": {
      "image/png": "[encoded data removed]",
      "text/plain": [
       "<Figure size 640x480 with 1 Axes>"
      ]
     },
     "metadata": {},
     "output_type": "display_data"
    }
   ],
   "source": [
    "make_inference_fn, params, metrics = train_fn(\n",
    "    environment=env,\n",
    "    wrap_env_fn=wrapper.wrap_for_brax_training,\n",
    ")\n",
    "print(f\"time to jit: {times[1] - times[0]}\")\n",
    "print(f\"time to train: {times[-1] - times[1]}\")"
   ]
  },
  {
   "cell_type": "code",
   "execution_count": null,
   "id": "8346f3c6",
   "metadata": {},
   "outputs": [],
   "source": [
    "jit_reset = jax.jit(env.reset)\n",
    "jit_step = jax.jit(env.step)\n",
    "jit_inference_fn = jax.jit(make_inference_fn(params, deterministic=True))"
   ]
  },
  {
   "cell_type": "code",
   "execution_count": null,
   "id": "5617b5c7",
   "metadata": {},
   "outputs": [],
   "source": [
    "rng = jax.random.PRNGKey(42)\n",
    "rollout = []\n",
    "n_episodes = 1\n",
    "\n",
    "for _ in range(n_episodes):\n",
    "  state = jit_reset(rng)\n",
    "  rollout.append(state)\n",
    "  for i in range(env_cfg.episode_length):\n",
    "    act_rng, rng = jax.random.split(rng)\n",
    "    ctrl, _ = jit_inference_fn(state.obs, act_rng)\n",
    "    state = jit_step(state, ctrl)\n",
    "    rollout.append(state)\n",
    "\n",
    "render_every = 1\n",
    "frames = env.render(rollout[::render_every])\n",
    "rewards = [s.reward for s in rollout]\n",
    "media.show_video(frames, fps=1.0 / env.dt / render_every)"
   ]
  },
  {
   "cell_type": "code",
   "execution_count": null,
   "id": "7fa600a7",
   "metadata": {},
   "outputs": [],
   "source": []
  }
 ],
 "metadata": {
  "kernelspec": {
   "display_name": "ai",
   "language": "python",
   "name": "python3"
  },
  "language_info": {
   "codemirror_mode": {
    "name": "ipython",
    "version": 3
   },
   "file_extension": ".py",
   "mimetype": "text/x-python",
   "name": "python",
   "nbconvert_exporter": "python",
   "pygments_lexer": "ipython3",
   "version": "3.12.8"
  }
 },
 "nbformat": 4,
 "nbformat_minor": 5
}
