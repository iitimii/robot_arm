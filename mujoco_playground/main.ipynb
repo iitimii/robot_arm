{
 "cells": [
  {
   "cell_type": "code",
   "execution_count": 1,
   "id": "a7d09e78",
   "metadata": {},
   "outputs": [],
   "source": [
    "from datetime import datetime\n",
    "import functools\n",
    "import os\n",
    "from typing import Any, Dict, Sequence, Tuple, Union\n",
    "from brax import base\n",
    "from brax import envs\n",
    "from brax import math\n",
    "from brax.base import Base, Motion, Transform\n",
    "from brax.base import State as PipelineState\n",
    "from brax.envs.base import Env, PipelineEnv, State\n",
    "from brax.io import html, mjcf, model\n",
    "from brax.mjx.base import State as MjxState\n",
    "from brax.training.agents.ppo import networks as ppo_networks\n",
    "from brax.training.agents.ppo import train as ppo\n",
    "from brax.training.agents.sac import networks as sac_networks\n",
    "from brax.training.agents.sac import train as sac\n",
    "from etils import epath\n",
    "from flax import struct\n",
    "from flax.training import orbax_utils\n",
    "from IPython.display import HTML, clear_output\n",
    "import jax\n",
    "from jax import numpy as jp\n",
    "from matplotlib import pyplot as plt\n",
    "import mediapy as media\n",
    "from ml_collections import config_dict\n",
    "import mujoco\n",
    "from mujoco import mjx\n",
    "import numpy as np\n",
    "from orbax import checkpoint as ocp"
   ]
  },
  {
   "cell_type": "code",
   "execution_count": 2,
   "id": "937ca523",
   "metadata": {},
   "outputs": [],
   "source": [
    "from mujoco_playground import wrapper\n",
    "from mujoco_playground import registry"
   ]
  },
  {
   "cell_type": "code",
   "execution_count": 3,
   "id": "466ae69a",
   "metadata": {},
   "outputs": [
    {
     "data": {
      "text/plain": [
       "('AlohaHandOver',\n",
       " 'AlohaSinglePegInsertion',\n",
       " 'PandaPickCube',\n",
       " 'PandaPickCubeOrientation',\n",
       " 'PandaPickCubeCartesian',\n",
       " 'PandaOpenCabinet',\n",
       " 'PandaRobotiqPushCube',\n",
       " 'LeapCubeReorient',\n",
       " 'LeapCubeRotateZAxis')"
      ]
     },
     "execution_count": 3,
     "metadata": {},
     "output_type": "execute_result"
    }
   ],
   "source": [
    "registry.manipulation.ALL_ENVS"
   ]
  },
  {
   "cell_type": "code",
   "execution_count": 4,
   "id": "b09f64a5",
   "metadata": {},
   "outputs": [],
   "source": [
    "env_name = 'PandaPickCubeOrientation'\n",
    "env = registry.load(env_name)\n",
    "env_cfg = registry.get_default_config(env_name)"
   ]
  },
  {
   "cell_type": "code",
   "execution_count": 5,
   "id": "73012ab8",
   "metadata": {},
   "outputs": [
    {
     "data": {
      "text/plain": [
       "action_repeat: 1\n",
       "action_scale: 0.04\n",
       "ctrl_dt: 0.02\n",
       "episode_length: 150\n",
       "reward_config:\n",
       "  scales:\n",
       "    box_target: 8.0\n",
       "    gripper_box: 4.0\n",
       "    no_floor_collision: 0.25\n",
       "    robot_target_qpos: 0.3\n",
       "sim_dt: 0.005"
      ]
     },
     "execution_count": 5,
     "metadata": {},
     "output_type": "execute_result"
    }
   ],
   "source": [
    "env_cfg"
   ]
  }
 ],
 "metadata": {
  "kernelspec": {
   "display_name": "ai",
   "language": "python",
   "name": "python3"
  },
  "language_info": {
   "codemirror_mode": {
    "name": "ipython",
    "version": 3
   },
   "file_extension": ".py",
   "mimetype": "text/x-python",
   "name": "python",
   "nbconvert_exporter": "python",
   "pygments_lexer": "ipython3",
   "version": "3.12.8"
  }
 },
 "nbformat": 4,
 "nbformat_minor": 5
}
